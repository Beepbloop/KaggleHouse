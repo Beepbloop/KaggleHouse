{
 "cells": [
  {
   "cell_type": "code",
   "execution_count": 12,
   "metadata": {},
   "outputs": [],
   "source": [
    "import sklearn as sk\n",
    "import numpy as np\n",
    "import pandas as pd\n",
    "from sklearn.linear_model import LinearRegression\n",
    "from sklearn.preprocessing import PolynomialFeatures\n",
    "from sklearn.metrics import mean_squared_error"
   ]
  },
  {
   "cell_type": "code",
   "execution_count": 27,
   "metadata": {},
   "outputs": [],
   "source": [
    "X = pd.read_csv('~/Datas/KaggleHouse/X_train.csv').to_numpy()\n",
    "y = pd.read_csv('~/Datas/KaggleHouse/Y_train.csv').to_numpy()\n",
    "X_final = pd.read_csv('~/Datas/KaggleHouse/X_test.csv').to_numpy()\n",
    "Id = pd.read_csv('~/Datas/KaggleHouse/Id.csv',header=None,names=['Id'])"
   ]
  },
  {
   "cell_type": "code",
   "execution_count": 28,
   "metadata": {},
   "outputs": [],
   "source": [
    "from sklearn.model_selection import train_test_split"
   ]
  },
  {
   "cell_type": "code",
   "execution_count": 29,
   "metadata": {},
   "outputs": [],
   "source": [
    "X_train, X_test, y_train, y_test = train_test_split(X, y, test_size=0.20, shuffle=True)"
   ]
  },
  {
   "cell_type": "code",
   "execution_count": 30,
   "metadata": {
    "scrolled": true
   },
   "outputs": [],
   "source": [
    "def polyFeat(arr,deg):\n",
    "    polynomial_features = PolynomialFeatures(degree=deg)\n",
    "    return polynomial_features.fit_transform(arr)"
   ]
  },
  {
   "cell_type": "code",
   "execution_count": 31,
   "metadata": {},
   "outputs": [
    {
     "name": "stdout",
     "output_type": "stream",
     "text": [
      "Mean Squared Error: 5382737922.108862 for 0 Degree\n",
      "Mean Squared Error: 696983514.9631437 for 1 Degree\n",
      "Mean Squared Error: 16799126151.963182 for 2 Degree\n"
     ]
    }
   ],
   "source": [
    "model = []\n",
    "for deg in range(2):\n",
    "    X_train_poly = polyFeat(X_train,deg)\n",
    "    X_test_poly = polyFeat(X_test,deg)\n",
    "#     polynomial_features = PolynomialFeatures(degree=deg)\n",
    "#     X_train_poly = polynomial_features.fit_transform(X_train)\n",
    "#     X_test_poly = polynomial_features.fit_transform(X_test)\n",
    "#     X_final_poly = polynomial_features.fit_transform(X_final)\n",
    "    model.append(LinearRegression())\n",
    "    reg = model[deg].fit(X_train_poly, y_train)\n",
    "    y_poly_pred = model[deg].predict(X_test_poly)\n",
    "    mse = mean_squared_error(y_test, y_poly_pred)\n",
    "    print(\"Mean Squared Error: {} for {} Degree\".format(mse,deg))"
   ]
  },
  {
   "cell_type": "code",
   "execution_count": 40,
   "metadata": {},
   "outputs": [
    {
     "data": {
      "text/plain": [
       "(1459, 1)"
      ]
     },
     "execution_count": 40,
     "metadata": {},
     "output_type": "execute_result"
    }
   ],
   "source": [
    "X_final_poly = polyFeat(X_final,1)\n",
    "y_final_pred = model[1].predict(X_final_poly)"
   ]
  },
  {
   "cell_type": "code",
   "execution_count": 42,
   "metadata": {},
   "outputs": [
    {
     "data": {
      "text/plain": [
       "array([[115579.37058319],\n",
       "       [150701.04705679],\n",
       "       [182615.35036754],\n",
       "       ...,\n",
       "       [180035.38195221],\n",
       "       [111713.52699871],\n",
       "       [226879.34665032]])"
      ]
     },
     "execution_count": 42,
     "metadata": {},
     "output_type": "execute_result"
    }
   ],
   "source": [
    "y_df = pd.DataFrame(y_final_pred)\n",
    "y_final_pred\n"
   ]
  },
  {
   "cell_type": "code",
   "execution_count": 43,
   "metadata": {},
   "outputs": [],
   "source": [
    "y_df = y_df.rename(columns={0:'SalePrice'})\n"
   ]
  },
  {
   "cell_type": "code",
   "execution_count": 46,
   "metadata": {},
   "outputs": [],
   "source": [
    "out = Id.copy()\n",
    "out = out.join(y_df)\n",
    "# out.index += 1"
   ]
  },
  {
   "cell_type": "code",
   "execution_count": 47,
   "metadata": {},
   "outputs": [
    {
     "data": {
      "text/html": [
       "<div>\n",
       "<style scoped>\n",
       "    .dataframe tbody tr th:only-of-type {\n",
       "        vertical-align: middle;\n",
       "    }\n",
       "\n",
       "    .dataframe tbody tr th {\n",
       "        vertical-align: top;\n",
       "    }\n",
       "\n",
       "    .dataframe thead th {\n",
       "        text-align: right;\n",
       "    }\n",
       "</style>\n",
       "<table border=\"1\" class=\"dataframe\">\n",
       "  <thead>\n",
       "    <tr style=\"text-align: right;\">\n",
       "      <th></th>\n",
       "      <th>Id</th>\n",
       "      <th>SalePrice</th>\n",
       "    </tr>\n",
       "  </thead>\n",
       "  <tbody>\n",
       "    <tr>\n",
       "      <th>1</th>\n",
       "      <td>1461</td>\n",
       "      <td>115579.370583</td>\n",
       "    </tr>\n",
       "    <tr>\n",
       "      <th>2</th>\n",
       "      <td>1462</td>\n",
       "      <td>150701.047057</td>\n",
       "    </tr>\n",
       "    <tr>\n",
       "      <th>3</th>\n",
       "      <td>1463</td>\n",
       "      <td>182615.350368</td>\n",
       "    </tr>\n",
       "    <tr>\n",
       "      <th>4</th>\n",
       "      <td>1464</td>\n",
       "      <td>197681.405891</td>\n",
       "    </tr>\n",
       "    <tr>\n",
       "      <th>5</th>\n",
       "      <td>1465</td>\n",
       "      <td>199083.192371</td>\n",
       "    </tr>\n",
       "    <tr>\n",
       "      <th>...</th>\n",
       "      <td>...</td>\n",
       "      <td>...</td>\n",
       "    </tr>\n",
       "    <tr>\n",
       "      <th>1455</th>\n",
       "      <td>2915</td>\n",
       "      <td>85055.682454</td>\n",
       "    </tr>\n",
       "    <tr>\n",
       "      <th>1456</th>\n",
       "      <td>2916</td>\n",
       "      <td>65979.312953</td>\n",
       "    </tr>\n",
       "    <tr>\n",
       "      <th>1457</th>\n",
       "      <td>2917</td>\n",
       "      <td>180035.381952</td>\n",
       "    </tr>\n",
       "    <tr>\n",
       "      <th>1458</th>\n",
       "      <td>2918</td>\n",
       "      <td>111713.526999</td>\n",
       "    </tr>\n",
       "    <tr>\n",
       "      <th>1459</th>\n",
       "      <td>2919</td>\n",
       "      <td>226879.346650</td>\n",
       "    </tr>\n",
       "  </tbody>\n",
       "</table>\n",
       "<p>1459 rows × 2 columns</p>\n",
       "</div>"
      ],
      "text/plain": [
       "        Id      SalePrice\n",
       "1     1461  115579.370583\n",
       "2     1462  150701.047057\n",
       "3     1463  182615.350368\n",
       "4     1464  197681.405891\n",
       "5     1465  199083.192371\n",
       "...    ...            ...\n",
       "1455  2915   85055.682454\n",
       "1456  2916   65979.312953\n",
       "1457  2917  180035.381952\n",
       "1458  2918  111713.526999\n",
       "1459  2919  226879.346650\n",
       "\n",
       "[1459 rows x 2 columns]"
      ]
     },
     "execution_count": 47,
     "metadata": {},
     "output_type": "execute_result"
    }
   ],
   "source": [
    "out"
   ]
  },
  {
   "cell_type": "code",
   "execution_count": 49,
   "metadata": {},
   "outputs": [],
   "source": [
    "out.to_csv(r'~/Datas/KaggleHouse/out.csv',index = False)"
   ]
  },
  {
   "cell_type": "code",
   "execution_count": null,
   "metadata": {},
   "outputs": [],
   "source": []
  }
 ],
 "metadata": {
  "kernelspec": {
   "display_name": "Python 3",
   "language": "python",
   "name": "python3"
  },
  "language_info": {
   "codemirror_mode": {
    "name": "ipython",
    "version": 3
   },
   "file_extension": ".py",
   "mimetype": "text/x-python",
   "name": "python",
   "nbconvert_exporter": "python",
   "pygments_lexer": "ipython3",
   "version": "3.5.3"
  }
 },
 "nbformat": 4,
 "nbformat_minor": 2
}
