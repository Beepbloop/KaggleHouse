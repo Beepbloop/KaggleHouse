{
 "cells": [
  {
   "cell_type": "code",
   "execution_count": 1,
   "metadata": {},
   "outputs": [],
   "source": [
    "import pandas as pd\n",
    "import os\n",
    "import seaborn as sns\n",
    "import matplotlib.pyplot as plt"
   ]
  },
  {
   "cell_type": "code",
   "execution_count": 2,
   "metadata": {},
   "outputs": [],
   "source": [
    "pd.options.display.max_rows = 50\n",
    "pd.options.display.max_columns = 100"
   ]
  },
  {
   "cell_type": "code",
   "execution_count": 3,
   "metadata": {},
   "outputs": [
    {
     "name": "stdout",
     "output_type": "stream",
     "text": [
      "../../Datas/KaggleHouse/data_description.txt\n",
      "../../Datas/KaggleHouse/house-prices-advanced-regression-techniques.zip\n",
      "../../Datas/KaggleHouse/Id.csv\n",
      "../../Datas/KaggleHouse/sample_submission.csv\n",
      "../../Datas/KaggleHouse/test.csv\n",
      "../../Datas/KaggleHouse/train.csv\n",
      "../../Datas/KaggleHouse/X_test_V2.csv\n",
      "../../Datas/KaggleHouse/X_train_V2.csv\n",
      "../../Datas/KaggleHouse/Y_train_V2_log.csv\n",
      "../../Datas/KaggleHouse/Y_train_V2_Nolog.csv\n"
     ]
    }
   ],
   "source": [
    "for dirname, _, filenames in os.walk('../../Datas/KaggleHouse/'):\n",
    "    for filename in filenames:\n",
    "        print(os.path.join(dirname, filename))"
   ]
  },
  {
   "cell_type": "code",
   "execution_count": 7,
   "metadata": {},
   "outputs": [],
   "source": [
    "train = pd.read_csv('../../Datas/KaggleHouse/test.csv')\n",
    "test = pd.read_csv('../../Datas/KaggleHouse/train.csv')"
   ]
  },
  {
   "cell_type": "code",
   "execution_count": null,
   "metadata": {},
   "outputs": [],
   "source": []
  },
  {
   "cell_type": "code",
   "execution_count": null,
   "metadata": {},
   "outputs": [],
   "source": []
  },
  {
   "cell_type": "code",
   "execution_count": null,
   "metadata": {},
   "outputs": [],
   "source": []
  }
 ],
 "metadata": {
  "kernelspec": {
   "display_name": "Python 3",
   "language": "python",
   "name": "python3"
  },
  "language_info": {
   "codemirror_mode": {
    "name": "ipython",
    "version": 3
   },
   "file_extension": ".py",
   "mimetype": "text/x-python",
   "name": "python",
   "nbconvert_exporter": "python",
   "pygments_lexer": "ipython3",
   "version": "3.5.2"
  }
 },
 "nbformat": 4,
 "nbformat_minor": 4
}
