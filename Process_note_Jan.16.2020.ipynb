{
 "cells": [
  {
   "cell_type": "code",
   "execution_count": 303,
   "metadata": {},
   "outputs": [],
   "source": [
    "import pandas as pd\n",
    "import os\n",
    "import seaborn as sns\n",
    "import matplotlib.pyplot as plt\n",
    "import numpy as np"
   ]
  },
  {
   "cell_type": "code",
   "execution_count": 304,
   "metadata": {},
   "outputs": [],
   "source": [
    "def plotAllHis(df):\n",
    "    for col in df.columns.to_list():\n",
    "        print(\"+++++++++++++++++++++++++++++++++++++++++++++++++++++++++++++++\")\n",
    "        try:\n",
    "            sns.distplot(df[col].dropna(),label=col)\n",
    "            print(col + \" dtype: \"+ str(df[col].dtype))\n",
    "            plt.show()\n",
    "        except:\n",
    "            print(col + \" Unique: \" + str(train[col].unique()))\n",
    "            print(\"Num of unique: \"+ str(train[col].unique().shape[0]))\n",
    "\n",
    "def precNan(df):\n",
    "    df_na_col = df.columns[df.isna().any()]\n",
    "    print(df[df_na_col].isna().sum()/df.shape[0]*100)"
   ]
  },
  {
   "cell_type": "code",
   "execution_count": 305,
   "metadata": {},
   "outputs": [],
   "source": [
    "pd.options.display.max_rows = 100\n",
    "pd.options.display.max_columns = 100"
   ]
  },
  {
   "cell_type": "code",
   "execution_count": 306,
   "metadata": {},
   "outputs": [
    {
     "name": "stdout",
     "output_type": "stream",
     "text": [
      "../../Datas/KaggleHouse/data_description.txt\n",
      "../../Datas/KaggleHouse/house-prices-advanced-regression-techniques.zip\n",
      "../../Datas/KaggleHouse/Id.csv\n",
      "../../Datas/KaggleHouse/sample_submission.csv\n",
      "../../Datas/KaggleHouse/test.csv\n",
      "../../Datas/KaggleHouse/train.csv\n",
      "../../Datas/KaggleHouse/X_note_Jan.16.2020.csv\n",
      "../../Datas/KaggleHouse/X_test_V2.csv\n",
      "../../Datas/KaggleHouse/X_train_V2.csv\n",
      "../../Datas/KaggleHouse/Y_log_note_Jan.16.2020.csv\n",
      "../../Datas/KaggleHouse/Y_note_Jan.16.2020.csv\n",
      "../../Datas/KaggleHouse/Y_train_V2_log.csv\n",
      "../../Datas/KaggleHouse/Y_train_V2_Nolog.csv\n"
     ]
    }
   ],
   "source": [
    "for dirname, _, filenames in os.walk('../../Datas/KaggleHouse/'):\n",
    "    for filename in filenames:\n",
    "        print(os.path.join(dirname, filename))"
   ]
  },
  {
   "cell_type": "code",
   "execution_count": 307,
   "metadata": {},
   "outputs": [],
   "source": [
    "train = pd.read_csv('../../Datas/KaggleHouse/train.csv')\n",
    "test = pd.read_csv('../../Datas/KaggleHouse/test.csv')\n",
    "data_list = [train, test]"
   ]
  },
  {
   "cell_type": "code",
   "execution_count": 308,
   "metadata": {},
   "outputs": [
    {
     "data": {
      "text/plain": [
       "(1460, 81)"
      ]
     },
     "execution_count": 308,
     "metadata": {},
     "output_type": "execute_result"
    }
   ],
   "source": [
    "train.shape"
   ]
  },
  {
   "cell_type": "code",
   "execution_count": 309,
   "metadata": {},
   "outputs": [
    {
     "data": {
      "text/plain": [
       "(1459, 80)"
      ]
     },
     "execution_count": 309,
     "metadata": {},
     "output_type": "execute_result"
    }
   ],
   "source": [
    "test.shape"
   ]
  },
  {
   "cell_type": "code",
   "execution_count": 310,
   "metadata": {},
   "outputs": [
    {
     "name": "stderr",
     "output_type": "stream",
     "text": [
      "c:\\program files\\python35\\lib\\site-packages\\ipykernel_launcher.py:1: FutureWarning: Sorting because non-concatenation axis is not aligned. A future version\n",
      "of pandas will change to not sort by default.\n",
      "\n",
      "To accept the future behavior, pass 'sort=False'.\n",
      "\n",
      "To retain the current behavior and silence the warning, pass 'sort=True'.\n",
      "\n",
      "  \"\"\"Entry point for launching an IPython kernel.\n"
     ]
    },
    {
     "data": {
      "text/plain": [
       "(2919, 81)"
      ]
     },
     "execution_count": 310,
     "metadata": {},
     "output_type": "execute_result"
    }
   ],
   "source": [
    "df = pd.concat(data_list)\n",
    "df.shape"
   ]
  },
  {
   "cell_type": "code",
   "execution_count": 311,
   "metadata": {},
   "outputs": [],
   "source": [
    "def OCCommon(s):\n",
    "    if s == 'Ex':\n",
    "        return 5\n",
    "    elif s == 'Gd':\n",
    "        return 4\n",
    "    elif s == 'TA':\n",
    "        return 3\n",
    "    elif s == 'Fa':\n",
    "        return 2\n",
    "    elif s == 'Po':\n",
    "        return 1\n",
    "    else:\n",
    "        return 0\n",
    "\n",
    "def StreetQul(s):\n",
    "    if s == 'Pave':\n",
    "        return 2\n",
    "    elif s == 'Grvl':\n",
    "        return 1\n",
    "    else:\n",
    "        return 0\n",
    "\n",
    "def LanCon(s):\n",
    "    if s == 'Lvl':\n",
    "        return 2\n",
    "    else:\n",
    "        return 1\n",
    "\n",
    "def Util(s):\n",
    "    if s == 'AllPub':\n",
    "        return 2\n",
    "    else:\n",
    "        return 1\n",
    "\n",
    "def LanSlo(s):\n",
    "    if s == 'Gtl':\n",
    "        return 2\n",
    "    elif s == 'Mod':\n",
    "        return 1\n",
    "    else:\n",
    "        return 0\n",
    "\n",
    "def BldTyp(s):\n",
    "    if s == '1Fam':\n",
    "        return 4\n",
    "    elif s == '2FmCon':\n",
    "        return 3\n",
    "    elif s =='Duplx':\n",
    "        return 2\n",
    "    elif s == 'TwnhsE':\n",
    "        return 1\n",
    "    else:\n",
    "        return 0\n",
    "    \n",
    "def HouSty(s):\n",
    "    if s == '2.5Fin':\n",
    "        return 5\n",
    "    elif s == '2.5Unf':\n",
    "        return 4\n",
    "    elif s == 'SFoyer' or s == '2Story':\n",
    "        return 3\n",
    "    elif s == '1.5Fin':\n",
    "        return 2\n",
    "    elif s == '1.5Unf':\n",
    "        return 1\n",
    "    else:\n",
    "        return 0\n",
    "\n",
    "def BsmExpo(s):\n",
    "    if s == 'Av':\n",
    "        return 3\n",
    "    elif s == 'Mn':\n",
    "        return 2\n",
    "    elif s == 'Gd':\n",
    "        return 1\n",
    "    else:\n",
    "        return 0\n",
    "    \n",
    "def BsmtFin(s):\n",
    "    if s == 'GLQ':\n",
    "        return 6\n",
    "    elif s == 'ALQ':\n",
    "        return 5\n",
    "    elif s == 'BLQ':\n",
    "        return 4\n",
    "    elif s == 'Rec':\n",
    "        return 3\n",
    "    elif s == 'LwQ':\n",
    "        return 2\n",
    "    elif s == 'Unf':\n",
    "        return 1\n",
    "    else:\n",
    "        return 0\n",
    "\n",
    "def Fun(s):\n",
    "    if s == 'Typ':\n",
    "        return 6\n",
    "    elif s == 'Min1':\n",
    "        return 5\n",
    "    elif s == 'Min2':\n",
    "        return 4\n",
    "    elif s == 'Mod':\n",
    "        return 3\n",
    "    elif s == 'Maj1':\n",
    "        return 2\n",
    "    elif s == 'Maj2':\n",
    "        return 1\n",
    "    else:\n",
    "        return 0\n",
    "\n",
    "def GarTyp(s):\n",
    "    if s == '2Types':\n",
    "        return 6\n",
    "    elif s == 'Attchd':\n",
    "        return 5\n",
    "    elif s == 'Basment':\n",
    "        return 4\n",
    "    elif s == 'BuiltIn':\n",
    "        return 3\n",
    "    elif s == 'CarPort':\n",
    "        return 2\n",
    "    elif s == 'Detchd':\n",
    "        return 1\n",
    "    else:\n",
    "        return 0\n",
    "    \n",
    "def GarFin(s):\n",
    "    if s == 'Fin':\n",
    "        return 3\n",
    "    elif s == 'RFn':\n",
    "        return 2\n",
    "    elif s == 'Unf':\n",
    "        return 1\n",
    "    else:\n",
    "        return 0\n",
    "    \n",
    "def PavDri(s):\n",
    "    if s == 'Y':\n",
    "        return 2\n",
    "    elif s == 'P':\n",
    "        return 1\n",
    "    else:\n",
    "        return 0\n",
    "    \n",
    "def CenAir(s):\n",
    "    if s == 'Y':\n",
    "        return 1\n",
    "    else:\n",
    "        return 0"
   ]
  },
  {
   "cell_type": "code",
   "execution_count": 312,
   "metadata": {},
   "outputs": [],
   "source": [
    "OCC_list = ['ExterQual','ExterCond','BsmtQual','BsmtCond','HeatingQC','KitchenQual','FireplaceQu','GarageQual','GarageCond','PoolQC']\n",
    "StrQul_list = ['Alley','Street']\n",
    "BsmFin_list = ['BsmtFinType1','BsmtFinType2']"
   ]
  },
  {
   "cell_type": "code",
   "execution_count": 313,
   "metadata": {},
   "outputs": [],
   "source": [
    "for OCC in OCC_list:\n",
    "    df[OCC] = df[OCC].apply(OCCommon)\n",
    "\n",
    "for StrQul in StrQul_list:\n",
    "    df[StrQul] = df[StrQul].apply(StreetQul)\n",
    "\n",
    "df['LandContour']=df['LandContour'].apply(LanCon)\n",
    "df['Utilities']=df['Utilities'].apply(Util)\n",
    "df['LandSlope']=df['LandSlope'].apply(LanSlo)\n",
    "df['BldgType']=df['BldgType'].apply(BldTyp)\n",
    "df['HouseStyle']=df['HouseStyle'].apply(HouSty)\n",
    "df['BsmtExposure']=df['BsmtExposure'].apply(BsmExpo)\n",
    "\n",
    "for BsmFin in BsmFin_list:\n",
    "    df[BsmFin]=df[BsmFin].apply(BsmtFin)\n",
    "    \n",
    "df['Functional']=df['Functional'].apply(Fun)\n",
    "df['GarageType']=df['GarageType'].apply(GarTyp)\n",
    "df['GarageFinish']=df['GarageFinish'].apply(GarFin)\n",
    "df['PavedDrive']=df['PavedDrive'].apply(PavDri)\n",
    "df['CentralAir']=df['CentralAir'].apply(CenAir)"
   ]
  },
  {
   "cell_type": "code",
   "execution_count": 314,
   "metadata": {},
   "outputs": [],
   "source": [
    "to_dummy = ['Condition1','Condition2','RoofStyle','RoofMatl','Exterior1st','Exterior2nd','MasVnrType','Foundation','Heating','Electrical','SaleType','SaleCondition','Fence','MiscFeature','MSZoning']"
   ]
  },
  {
   "cell_type": "code",
   "execution_count": 315,
   "metadata": {},
   "outputs": [],
   "source": [
    "for col in to_dummy:\n",
    "    dummy = pd.get_dummies(df[col],dummy_na=True)\n",
    "    df = pd.concat([df,dummy],axis=1)\n",
    "df.drop(columns=to_dummy,axis=0,inplace=True)"
   ]
  },
  {
   "cell_type": "code",
   "execution_count": 316,
   "metadata": {},
   "outputs": [
    {
     "data": {
      "text/plain": [
       "(2919, 192)"
      ]
     },
     "execution_count": 316,
     "metadata": {},
     "output_type": "execute_result"
    }
   ],
   "source": [
    "df.shape"
   ]
  },
  {
   "cell_type": "code",
   "execution_count": 317,
   "metadata": {},
   "outputs": [
    {
     "name": "stdout",
     "output_type": "stream",
     "text": [
      "BsmtFinSF1       0.034258\n",
      "BsmtFinSF2       0.034258\n",
      "BsmtFullBath     0.068517\n",
      "BsmtHalfBath     0.068517\n",
      "BsmtUnfSF        0.034258\n",
      "GarageArea       0.034258\n",
      "GarageCars       0.034258\n",
      "GarageYrBlt      5.447071\n",
      "LotFrontage     16.649538\n",
      "MasVnrArea       0.787941\n",
      "SalePrice       49.982871\n",
      "TotalBsmtSF      0.034258\n",
      "dtype: float64\n"
     ]
    }
   ],
   "source": [
    "precNan(df)"
   ]
  },
  {
   "cell_type": "code",
   "execution_count": 318,
   "metadata": {},
   "outputs": [],
   "source": [
    "to_meanCode = ['YearBuilt','YearRemodAdd','GarageYrBlt','YrSold']"
   ]
  },
  {
   "cell_type": "code",
   "execution_count": 319,
   "metadata": {},
   "outputs": [],
   "source": [
    "def meanCode(col):\n",
    "    df[col] = df[col] - df[col].mean()\n",
    "    df[col] = df[col].fillna(0)"
   ]
  },
  {
   "cell_type": "code",
   "execution_count": 320,
   "metadata": {},
   "outputs": [],
   "source": [
    "meanCode(to_meanCode)"
   ]
  },
  {
   "cell_type": "code",
   "execution_count": 321,
   "metadata": {},
   "outputs": [
    {
     "name": "stdout",
     "output_type": "stream",
     "text": [
      "BsmtFinSF1       0.034258\n",
      "BsmtFinSF2       0.034258\n",
      "BsmtFullBath     0.068517\n",
      "BsmtHalfBath     0.068517\n",
      "BsmtUnfSF        0.034258\n",
      "GarageArea       0.034258\n",
      "GarageCars       0.034258\n",
      "LotFrontage     16.649538\n",
      "MasVnrArea       0.787941\n",
      "SalePrice       49.982871\n",
      "TotalBsmtSF      0.034258\n",
      "dtype: float64\n"
     ]
    }
   ],
   "source": [
    "precNan(df)"
   ]
  },
  {
   "cell_type": "code",
   "execution_count": 322,
   "metadata": {},
   "outputs": [],
   "source": [
    "to_fillNa0 = ['BsmtFinSF1','BsmtFinSF2','BsmtFullBath','BsmtHalfBath','BsmtUnfSF','GarageArea','GarageCars','LotFrontage','MasVnrArea','TotalBsmtSF']"
   ]
  },
  {
   "cell_type": "code",
   "execution_count": 323,
   "metadata": {},
   "outputs": [],
   "source": [
    "for col in to_fillNa0:\n",
    "    df[col] = df[col].fillna(0)"
   ]
  },
  {
   "cell_type": "code",
   "execution_count": 324,
   "metadata": {},
   "outputs": [
    {
     "name": "stdout",
     "output_type": "stream",
     "text": [
      "SalePrice    49.982871\n",
      "dtype: float64\n"
     ]
    }
   ],
   "source": [
    "precNan(df)"
   ]
  },
  {
   "cell_type": "code",
   "execution_count": 325,
   "metadata": {},
   "outputs": [],
   "source": [
    "train_proced = df.head(1460)\n",
    "test_proced = df.tail(1459).drop(['SalePrice'],axis=1)"
   ]
  },
  {
   "cell_type": "code",
   "execution_count": 326,
   "metadata": {},
   "outputs": [],
   "source": [
    "Y = train_proced['SalePrice']\n",
    "X = train_proced.drop(['SalePrice'],axis=1)"
   ]
  },
  {
   "cell_type": "code",
   "execution_count": 327,
   "metadata": {},
   "outputs": [],
   "source": [
    "Y_log = np.log(Y)"
   ]
  },
  {
   "cell_type": "code",
   "execution_count": 328,
   "metadata": {},
   "outputs": [
    {
     "data": {
      "text/plain": [
       "<matplotlib.axes._subplots.AxesSubplot at 0x13bd354d908>"
      ]
     },
     "execution_count": 328,
     "metadata": {},
     "output_type": "execute_result"
    },
    {
     "data": {
      "image/png": "[encoded data removed]",
      "text/plain": [
       "<Figure size 432x288 with 1 Axes>"
      ]
     },
     "metadata": {
      "needs_background": "light"
     },
     "output_type": "display_data"
    }
   ],
   "source": [
    "sns.distplot(Y_log,label='Y_log')"
   ]
  },
  {
   "cell_type": "code",
   "execution_count": 329,
   "metadata": {},
   "outputs": [
    {
     "name": "stderr",
     "output_type": "stream",
     "text": [
      "c:\\program files\\python35\\lib\\site-packages\\ipykernel_launcher.py:2: FutureWarning: The signature of `Series.to_csv` was aligned to that of `DataFrame.to_csv`, and argument 'header' will change its default value from False to True: please pass an explicit value to suppress this warning.\n",
      "  \n",
      "c:\\program files\\python35\\lib\\site-packages\\ipykernel_launcher.py:3: FutureWarning: The signature of `Series.to_csv` was aligned to that of `DataFrame.to_csv`, and argument 'header' will change its default value from False to True: please pass an explicit value to suppress this warning.\n",
      "  This is separate from the ipykernel package so we can avoid doing imports until\n"
     ]
    }
   ],
   "source": [
    "X.to_csv('../../Datas/KaggleHouse/X_note_Jan.16.2020.csv')\n",
    "Y.to_csv('../../Datas/KaggleHouse/Y_note_Jan.16.2020.csv')\n",
    "Y_log.to_csv('../../Datas/KaggleHouse/Y_log_note_Jan.16.2020.csv')\n",
    "test_proced.to_csv('../../Datas/KaggleHouse/Y_train_V2_log.csv')"
   ]
  },
  {
   "cell_type": "code",
   "execution_count": null,
   "metadata": {},
   "outputs": [],
   "source": []
  }
 ],
 "metadata": {
  "kernelspec": {
   "display_name": "Python 3",
   "language": "python",
   "name": "python3"
  },
  "language_info": {
   "codemirror_mode": {
    "name": "ipython",
    "version": 3
   },
   "file_extension": ".py",
   "mimetype": "text/x-python",
   "name": "python",
   "nbconvert_exporter": "python",
   "pygments_lexer": "ipython3",
   "version": "3.5.2"
  }
 },
 "nbformat": 4,
 "nbformat_minor": 4
}
