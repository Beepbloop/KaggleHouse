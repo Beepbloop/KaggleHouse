{
 "cells": [
  {
   "cell_type": "code",
   "execution_count": 1,
   "metadata": {},
   "outputs": [],
   "source": [
    "# General imports\n",
    "import numpy as np\n",
    "import pandas as pd\n",
    "import os, gc, sys, warnings, random, math, psutil, pickle\n",
    "from sklearn.model_selection import train_test_split\n",
    "warnings.filterwarnings('ignore')"
   ]
  },
  {
   "cell_type": "code",
   "execution_count": 2,
   "metadata": {},
   "outputs": [],
   "source": [
    "pd.options.display.max_rows = 100\n",
    "pd.options.display.max_columns = 100"
   ]
  },
  {
   "cell_type": "code",
   "execution_count": 5,
   "metadata": {},
   "outputs": [
    {
     "name": "stdout",
     "output_type": "stream",
     "text": [
      "../../Datas/KaggleHouse/data_description.txt\n",
      "../../Datas/KaggleHouse/house-prices-advanced-regression-techniques.zip\n",
      "../../Datas/KaggleHouse/Id.csv\n",
      "../../Datas/KaggleHouse/sample_submission.csv\n",
      "../../Datas/KaggleHouse/test.csv\n",
      "../../Datas/KaggleHouse/test_note_Jan_16_20.csv\n",
      "../../Datas/KaggleHouse/train.csv\n",
      "../../Datas/KaggleHouse/train_note_Jan_16_20.csv\n",
      "../../Datas/KaggleHouse/X_note_Jan_16_20.csv\n",
      "../../Datas/KaggleHouse/X_test_V2.csv\n",
      "../../Datas/KaggleHouse/X_train_V2.csv\n",
      "../../Datas/KaggleHouse/Y_log_note_Jan_16_20.csv\n",
      "../../Datas/KaggleHouse/Y_note_Jan_16_20.csv\n",
      "../../Datas/KaggleHouse/Y_train_V2_log.csv\n",
      "../../Datas/KaggleHouse/Y_train_V2_Nolog.csv\n"
     ]
    }
   ],
   "source": [
    "for dirname, _, filenames in os.walk('../../Datas/KaggleHouse/'):\n",
    "    for filename in filenames:\n",
    "        print(os.path.join(dirname, filename))"
   ]
  },
  {
   "cell_type": "code",
   "execution_count": 6,
   "metadata": {},
   "outputs": [],
   "source": [
    "X = pd.read_csv('../../Datas/KaggleHouse/X_note_Jan_16_20.csv')\n",
    "Y = pd.read_csv('../../Datas/KaggleHouse/Y_note_Jan_16_20.csv')\n",
    "\n",
    "# test = pd.read_csv('../../Datas/KaggleHouse/test_note_Jan_16_20.csv')"
   ]
  },
  {
   "cell_type": "code",
   "execution_count": 43,
   "metadata": {},
   "outputs": [],
   "source": [
    "X_train, X_test, y_train, y_test = train_test_split(X, Y, test_size=0.33, random_state=42,shuffle=True)"
   ]
  },
  {
   "cell_type": "code",
   "execution_count": 44,
   "metadata": {},
   "outputs": [],
   "source": [
    "from sklearn.metrics import mean_squared_error\n",
    "from sklearn.linear_model import Lasso\n",
    "from sklearn.model_selection import train_test_split"
   ]
  },
  {
   "cell_type": "code",
   "execution_count": 48,
   "metadata": {
    "scrolled": false
   },
   "outputs": [
    {
     "name": "stdout",
     "output_type": "stream",
     "text": [
      "RMSE = 31496.83215084568, a=5e-05, Epoch = 100\n",
      "RMSE = 31556.88037210499, a=5e-05, Epoch = 500\n",
      "RMSE = 31556.882221262567, a=5e-05, Epoch = 1000\n",
      "RMSE = 31556.277215446138, a=5e-05, Epoch = 5000\n",
      "RMSE = 31555.520903897417, a=5e-05, Epoch = 10000\n",
      "RMSE = 31549.49620854837, a=5e-05, Epoch = 50000\n",
      "RMSE = 31542.024266620374, a=5e-05, Epoch = 100000\n",
      "RMSE = 31481.874101922385, a=5e-05, Epoch = 500000\n",
      "RMSE = 31496.81316706839, a=0.0001, Epoch = 100\n",
      "RMSE = 31556.80035157209, a=0.0001, Epoch = 500\n",
      "RMSE = 31556.72648845365, a=0.0001, Epoch = 1000\n",
      "RMSE = 31555.51660501332, a=0.0001, Epoch = 5000\n",
      "RMSE = 31554.006131009566, a=0.0001, Epoch = 10000\n",
      "RMSE = 31542.019940258557, a=0.0001, Epoch = 50000\n",
      "RMSE = 31526.682996984415, a=0.0001, Epoch = 100000\n",
      "RMSE = 31412.04189719239, a=0.0001, Epoch = 500000\n",
      "RMSE = 31496.661308407798, a=0.0005, Epoch = 100\n",
      "RMSE = 31556.16044556552, a=0.0005, Epoch = 500\n",
      "RMSE = 31555.48165670119, a=0.0005, Epoch = 1000\n",
      "RMSE = 31549.457507594616, a=0.0005, Epoch = 5000\n",
      "RMSE = 31541.985331022974, a=0.0005, Epoch = 10000\n",
      "RMSE = 31481.83069580464, a=0.0005, Epoch = 50000\n",
      "RMSE = 31412.006907264837, a=0.0005, Epoch = 100000\n",
      "RMSE = 31096.316339239685, a=0.0005, Epoch = 500000\n",
      "RMSE = 31496.471514216497, a=0.001, Epoch = 100\n",
      "RMSE = 31555.36120872998, a=0.001, Epoch = 500\n",
      "RMSE = 31553.92819404853, a=0.001, Epoch = 1000\n",
      "RMSE = 31541.942073550515, a=0.001, Epoch = 5000\n",
      "RMSE = 31526.595716374555, a=0.001, Epoch = 10000\n",
      "RMSE = 31411.96317315804, a=0.001, Epoch = 50000\n",
      "RMSE = 31291.187997917656, a=0.001, Epoch = 100000\n",
      "RMSE = 31098.551367304073, a=0.001, Epoch = 500000\n",
      "RMSE = 31494.95432111495, a=0.005, Epoch = 100\n",
      "RMSE = 31548.993147341127, a=0.005, Epoch = 500\n",
      "RMSE = 31541.595671562147, a=0.005, Epoch = 1000\n",
      "RMSE = 31481.396795148343, a=0.005, Epoch = 5000\n",
      "RMSE = 31411.613424369545, a=0.005, Epoch = 10000\n",
      "RMSE = 31095.971023415565, a=0.005, Epoch = 50000\n",
      "RMSE = 31098.2150781125, a=0.005, Epoch = 100000\n",
      "RMSE = 31098.54170875649, a=0.005, Epoch = 500000\n",
      "RMSE = 31493.06010577553, a=0.01, Epoch = 100\n",
      "RMSE = 31541.088309157836, a=0.01, Epoch = 500\n",
      "RMSE = 31525.723012017083, a=0.01, Epoch = 1000\n",
      "RMSE = 31411.17655467501, a=0.01, Epoch = 5000\n",
      "RMSE = 31290.43328784266, a=0.01, Epoch = 10000\n",
      "RMSE = 31097.7950409125, a=0.01, Epoch = 50000\n",
      "RMSE = 31098.110687154192, a=0.01, Epoch = 100000\n",
      "RMSE = 31098.13196281252, a=0.01, Epoch = 500000\n",
      "RMSE = 31478.23591194862, a=0.05, Epoch = 100\n",
      "RMSE = 31477.297961835236, a=0.05, Epoch = 500\n",
      "RMSE = 31407.933884672595, a=0.05, Epoch = 1000\n",
      "RMSE = 31092.718489609008, a=0.05, Epoch = 5000\n",
      "RMSE = 31094.645594483056, a=0.05, Epoch = 10000\n",
      "RMSE = 31095.06523443902, a=0.05, Epoch = 50000\n",
      "RMSE = 31095.065234444985, a=0.05, Epoch = 100000\n",
      "RMSE = 31095.065234454636, a=0.05, Epoch = 500000\n",
      "RMSE = 31458.700751871893, a=0.1, Epoch = 100\n",
      "RMSE = 31403.392785229265, a=0.1, Epoch = 500\n",
      "RMSE = 31283.03229649128, a=0.1, Epoch = 1000\n",
      "RMSE = 31090.29586757403, a=0.1, Epoch = 5000\n",
      "RMSE = 31090.60676190185, a=0.1, Epoch = 10000\n",
      "RMSE = 31090.82017906112, a=0.1, Epoch = 50000\n",
      "RMSE = 31090.82017905996, a=0.1, Epoch = 100000\n",
      "RMSE = 31090.820179039023, a=0.1, Epoch = 500000\n",
      "RMSE = 31305.52739564832, a=0.5, Epoch = 100\n",
      "RMSE = 31052.57592064011, a=0.5, Epoch = 500\n",
      "RMSE = 31051.723112325148, a=0.5, Epoch = 1000\n",
      "RMSE = 31053.177761572028, a=0.5, Epoch = 5000\n",
      "RMSE = 31053.1806443701, a=0.5, Epoch = 10000\n",
      "RMSE = 31053.180644371205, a=0.5, Epoch = 50000\n",
      "RMSE = 31053.180644359858, a=0.5, Epoch = 100000\n",
      "RMSE = 31053.180644354557, a=0.5, Epoch = 500000\n"
     ]
    }
   ],
   "source": [
    "for a in [0.00005,0.0001,0.0005,0.001,0.005,0.01,0.05,0.1,0.5]:\n",
    "    for epochs in [100,500,1000,5000,10000,50000,100000,500000]:\n",
    "        model = Lasso(alpha = a, max_iter=epochs)\n",
    "        reg = model.fit(X_train, y_train)\n",
    "        y_pred = model.predict(X_test)\n",
    "        rmse = np.sqrt(mean_squared_error(y_test,y_pred))\n",
    "        print(\"RMSE = {}, a={}, Epoch = {}\".format(rmse,a,epochs))"
   ]
  },
  {
   "cell_type": "markdown",
   "metadata": {},
   "source": [
    "## Best Model: RMSE = 31305.52739564832, a=0.5, Epoch = 100"
   ]
  },
  {
   "cell_type": "code",
   "execution_count": 52,
   "metadata": {},
   "outputs": [],
   "source": [
    "X_valid = pd.read_csv('../../Datas/KaggleHouse/test_note_Jan_16_20.csv')"
   ]
  },
  {
   "cell_type": "code",
   "execution_count": 56,
   "metadata": {},
   "outputs": [],
   "source": [
    "model = Lasso(alpha = 0.5, max_iter=100)\n",
    "reg = model.fit(X_train, y_train)\n",
    "y_valid = model.predict(X_valid)"
   ]
  },
  {
   "cell_type": "code",
   "execution_count": 57,
   "metadata": {},
   "outputs": [],
   "source": [
    "sub = pd.read_csv('../../Datas/KaggleHouse/sample_submission.csv')"
   ]
  },
  {
   "cell_type": "code",
   "execution_count": 58,
   "metadata": {},
   "outputs": [],
   "source": [
    "sub['SalePrice']=y_valid"
   ]
  },
  {
   "cell_type": "code",
   "execution_count": 59,
   "metadata": {},
   "outputs": [],
   "source": [
    "sub.to_csv('../../Datas/KaggleHouse/Sub_Lasso_Note_Jan_16_20.csv',index=False)"
   ]
  },
  {
   "cell_type": "code",
   "execution_count": null,
   "metadata": {},
   "outputs": [],
   "source": []
  }
 ],
 "metadata": {
  "kernelspec": {
   "display_name": "Python 3",
   "language": "python",
   "name": "python3"
  },
  "language_info": {
   "codemirror_mode": {
    "name": "ipython",
    "version": 3
   },
   "file_extension": ".py",
   "mimetype": "text/x-python",
   "name": "python",
   "nbconvert_exporter": "python",
   "pygments_lexer": "ipython3",
   "version": "3.5.2"
  }
 },
 "nbformat": 4,
 "nbformat_minor": 4
}
